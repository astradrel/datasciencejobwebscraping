{
 "cells": [
  {
   "cell_type": "markdown",
   "id": "9f0d9ce5",
   "metadata": {},
   "source": [
    "<img src=\"images/astradrel_datascience_logo.png\" style=\"height: 100px;\" align=left>\n",
    "<img src=\"images/python_logo.png\" style=\"height: 100px;\" align=right>"
   ]
  },
  {
   "cell_type": "markdown",
   "id": "d2c8391c",
   "metadata": {},
   "source": [
    "# Project: Web Scrapping Job Postings from Indeed Malaysia"
   ]
  },
  {
   "cell_type": "markdown",
   "id": "0e29d2b5",
   "metadata": {},
   "source": [
    "Almost all of fresh graduates in Malaysia are using online job posting websites like **Indeed, LinkedIn, JobStreet** and likewise to look for jobs. So many opportunities exists on the internet yet only fraction of total fresh graduates will get the jobs which proves the competition existed in the online jobseeking. Many attributes of the candidates itself can affect their chances of landing their dream jobs such as skills, experiences, salary expectation and many more. "
   ]
  },
  {
   "cell_type": "markdown",
   "id": "279c98e2",
   "metadata": {},
   "source": [
    "In the case of Data Science, with the recent influx of working professional and fresh graduate alike from different background looking for a career transition this maybe become a trouble when it comes to meeting the criterias of the recruiter. With so many people competing for the same jobs posts, it become apparent that the recruiter needed to filter down the candidates and only takes the top of the cream among all of them. In this project we will gather several data science jobs posting from various online job posting website and determining what the desired attributes that recruiter looking for in a candidates."
   ]
  },
  {
   "cell_type": "markdown",
   "id": "06fe264d",
   "metadata": {},
   "source": [
    "In this project, we are using web scrapping tools to scrap the information of a jobs along with its jobs description, job employment type, salary, location and several more for **Data Scientist** position from the **Indeed Malaysia**."
   ]
  },
  {
   "cell_type": "markdown",
   "id": "63df9c97",
   "metadata": {},
   "source": [
    "# Module: Dataset Cleaning and NLP Implementation"
   ]
  },
  {
   "cell_type": "markdown",
   "id": "d804fe46",
   "metadata": {},
   "source": [
    "## Importing libraries"
   ]
  },
  {
   "cell_type": "code",
   "execution_count": 1,
   "id": "59781f28",
   "metadata": {},
   "outputs": [],
   "source": [
    "import pandas as pd\n",
    "import os\n",
    "import time\n",
    "import datetime\n",
    "\n",
    "# Natural Language Processing\n",
    "import nltk\n",
    "import string\n",
    "import re\n",
    "from nltk.tokenize import word_tokenize\n",
    "from nltk.corpus import stopwords\n"
   ]
  },
  {
   "cell_type": "markdown",
   "id": "850b7d13",
   "metadata": {},
   "source": [
    "## Importing scrapped Job Post dataset from Malaysia Indeed.com"
   ]
  },
  {
   "cell_type": "code",
   "execution_count": 2,
   "id": "bc6415e0",
   "metadata": {},
   "outputs": [],
   "source": [
    "main_path = \"C:\\\\Users\\\\astra\\\\Desktop\\\\CADS Datastar\\\\Junior Data Scientist\\\\Kaggle\\\\datasciencejobswebscrapping\"\n"
   ]
  },
  {
   "cell_type": "code",
   "execution_count": 3,
   "id": "40024607",
   "metadata": {},
   "outputs": [],
   "source": [
    "df_indeed = pd.read_excel(main_path + '/data/indeed_jobs.xlsx')"
   ]
  },
  {
   "cell_type": "code",
   "execution_count": 4,
   "id": "08f75649",
   "metadata": {},
   "outputs": [
    {
     "data": {
      "text/html": [
       "<div>\n",
       "<style scoped>\n",
       "    .dataframe tbody tr th:only-of-type {\n",
       "        vertical-align: middle;\n",
       "    }\n",
       "\n",
       "    .dataframe tbody tr th {\n",
       "        vertical-align: top;\n",
       "    }\n",
       "\n",
       "    .dataframe thead th {\n",
       "        text-align: right;\n",
       "    }\n",
       "</style>\n",
       "<table border=\"1\" class=\"dataframe\">\n",
       "  <thead>\n",
       "    <tr style=\"text-align: right;\">\n",
       "      <th></th>\n",
       "      <th>Job Title</th>\n",
       "      <th>Company</th>\n",
       "      <th>Location</th>\n",
       "      <th>Salary</th>\n",
       "      <th>Post Date</th>\n",
       "      <th>Job Link</th>\n",
       "      <th>Type</th>\n",
       "      <th>Description</th>\n",
       "    </tr>\n",
       "  </thead>\n",
       "  <tbody>\n",
       "    <tr>\n",
       "      <th>0</th>\n",
       "      <td>Meteorologist/ Meteorological Data Scientist</td>\n",
       "      <td>AkiraKan (Marine Technology) Sdn Bhd</td>\n",
       "      <td>Kuala Lumpur</td>\n",
       "      <td>RM 3,500 a month</td>\n",
       "      <td>13 days ago</td>\n",
       "      <td>https://malaysia.indeed.com/company/AkiraKan-(...</td>\n",
       "      <td>Full time</td>\n",
       "      <td>AkiraKan [ AKN Technologies ] is hiring Meteor...</td>\n",
       "    </tr>\n",
       "    <tr>\n",
       "      <th>1</th>\n",
       "      <td>Data Scientist</td>\n",
       "      <td>Doo Technology MY Sdn. Bhd.</td>\n",
       "      <td>Kuala Lumpur</td>\n",
       "      <td>RM 6,000 - RM 7,999 a month</td>\n",
       "      <td>6 days ago</td>\n",
       "      <td>https://malaysia.indeed.com/rc/clk?jk=e9d15ef5...</td>\n",
       "      <td>No Detail</td>\n",
       "      <td>Responsibilities: - Exploratory data analysis ...</td>\n",
       "    </tr>\n",
       "    <tr>\n",
       "      <th>2</th>\n",
       "      <td>Data Scientist</td>\n",
       "      <td>Datalabs Asia (M) Sdn Bhd</td>\n",
       "      <td>Kuala Lumpur</td>\n",
       "      <td>RM 5,000 - RM 5,999 a month</td>\n",
       "      <td>13 days ago</td>\n",
       "      <td>https://malaysia.indeed.com/rc/clk?jk=4b53359d...</td>\n",
       "      <td>Contract</td>\n",
       "      <td>Data scientists find and interpret rich data s...</td>\n",
       "    </tr>\n",
       "    <tr>\n",
       "      <th>3</th>\n",
       "      <td>Data Scientist</td>\n",
       "      <td>BASF Asia Pacific</td>\n",
       "      <td>Kuala Lumpur</td>\n",
       "      <td>No Detail</td>\n",
       "      <td>15 days ago</td>\n",
       "      <td>https://malaysia.indeed.com/rc/clk?jk=3d272182...</td>\n",
       "      <td>No Detail</td>\n",
       "      <td>LOCATION\\n\\nKuala Lumpur, MY, 50000\\n\\nCOMPANY...</td>\n",
       "    </tr>\n",
       "    <tr>\n",
       "      <th>4</th>\n",
       "      <td>Geomatics Surveyor (Geographic Information Sys...</td>\n",
       "      <td>AkiraKan (Marine Technology) Sdn Bhd</td>\n",
       "      <td>Kuala Lumpur</td>\n",
       "      <td>RM 3,500 a month</td>\n",
       "      <td>13 days ago</td>\n",
       "      <td>https://malaysia.indeed.com/company/AkiraKan-(...</td>\n",
       "      <td>Full time</td>\n",
       "      <td>AkiraKan [ AKN Technologies ] is hiring survey...</td>\n",
       "    </tr>\n",
       "  </tbody>\n",
       "</table>\n",
       "</div>"
      ],
      "text/plain": [
       "                                           Job Title  \\\n",
       "0       Meteorologist/ Meteorological Data Scientist   \n",
       "1                                     Data Scientist   \n",
       "2                                     Data Scientist   \n",
       "3                                     Data Scientist   \n",
       "4  Geomatics Surveyor (Geographic Information Sys...   \n",
       "\n",
       "                                Company      Location  \\\n",
       "0  AkiraKan (Marine Technology) Sdn Bhd  Kuala Lumpur   \n",
       "1           Doo Technology MY Sdn. Bhd.  Kuala Lumpur   \n",
       "2             Datalabs Asia (M) Sdn Bhd  Kuala Lumpur   \n",
       "3                     BASF Asia Pacific  Kuala Lumpur   \n",
       "4  AkiraKan (Marine Technology) Sdn Bhd  Kuala Lumpur   \n",
       "\n",
       "                        Salary    Post Date  \\\n",
       "0             RM 3,500 a month  13 days ago   \n",
       "1  RM 6,000 - RM 7,999 a month   6 days ago   \n",
       "2  RM 5,000 - RM 5,999 a month  13 days ago   \n",
       "3                    No Detail  15 days ago   \n",
       "4             RM 3,500 a month  13 days ago   \n",
       "\n",
       "                                            Job Link       Type  \\\n",
       "0  https://malaysia.indeed.com/company/AkiraKan-(...  Full time   \n",
       "1  https://malaysia.indeed.com/rc/clk?jk=e9d15ef5...  No Detail   \n",
       "2  https://malaysia.indeed.com/rc/clk?jk=4b53359d...   Contract   \n",
       "3  https://malaysia.indeed.com/rc/clk?jk=3d272182...  No Detail   \n",
       "4  https://malaysia.indeed.com/company/AkiraKan-(...  Full time   \n",
       "\n",
       "                                         Description  \n",
       "0  AkiraKan [ AKN Technologies ] is hiring Meteor...  \n",
       "1  Responsibilities: - Exploratory data analysis ...  \n",
       "2  Data scientists find and interpret rich data s...  \n",
       "3  LOCATION\\n\\nKuala Lumpur, MY, 50000\\n\\nCOMPANY...  \n",
       "4  AkiraKan [ AKN Technologies ] is hiring survey...  "
      ]
     },
     "execution_count": 4,
     "metadata": {},
     "output_type": "execute_result"
    }
   ],
   "source": [
    "df_indeed.head(5)"
   ]
  },
  {
   "cell_type": "markdown",
   "id": "84051c77",
   "metadata": {},
   "source": [
    "## Data Cleaning and Transformation"
   ]
  },
  {
   "cell_type": "code",
   "execution_count": 5,
   "id": "c39e7209",
   "metadata": {},
   "outputs": [],
   "source": [
    "# Transform the job post column and create job date column with proper date format\n",
    "\n",
    "Date_Posted = []\n",
    "\n",
    "for data in df_indeed['Post Date']:\n",
    "    if re.findall(r'[0-9]', data):\n",
    "        period = int(''.join(re.findall(r'[0-9]', data)))\n",
    "        period_date = (datetime.datetime.today() - datetime.timedelta(period)).strftime('%d/%m/%y')\n",
    "        Date_Posted.append(period_date)\n",
    "    else:\n",
    "        Date_Posted.append(datetime.datetime.today().strftime('%d/%m/%y'))\n",
    "\n",
    "df_indeed['Job Date'] = Date_Posted\n",
    "df_indeed = df_indeed.drop(['Post Date'], axis=1)"
   ]
  },
  {
   "cell_type": "code",
   "execution_count": 6,
   "id": "66f611ce",
   "metadata": {},
   "outputs": [
    {
     "name": "stdout",
     "output_type": "stream",
     "text": [
      "<class 'pandas.core.frame.DataFrame'>\n",
      "RangeIndex: 150 entries, 0 to 149\n",
      "Data columns (total 8 columns):\n",
      " #   Column       Non-Null Count  Dtype \n",
      "---  ------       --------------  ----- \n",
      " 0   Job Title    150 non-null    object\n",
      " 1   Company      150 non-null    object\n",
      " 2   Location     150 non-null    object\n",
      " 3   Salary       150 non-null    object\n",
      " 4   Job Link     150 non-null    object\n",
      " 5   Type         150 non-null    object\n",
      " 6   Description  150 non-null    object\n",
      " 7   Job Date     150 non-null    object\n",
      "dtypes: object(8)\n",
      "memory usage: 9.5+ KB\n"
     ]
    }
   ],
   "source": [
    "df_indeed.info()"
   ]
  },
  {
   "cell_type": "code",
   "execution_count": 7,
   "id": "d871ce33",
   "metadata": {},
   "outputs": [],
   "source": [
    "# Clean the type column and standardizes the type\n",
    "\n",
    "#df_indeed['Type'].unique()\n",
    "Type = []\n",
    "\n",
    "for x in df_indeed['Type']:\n",
    "    \n",
    "    if x == 'Full time':\n",
    "        Type.append('Fulltime')\n",
    "        pass\n",
    "    \n",
    "    elif x == 'No Detail':\n",
    "        Type.append('Unspecified')\n",
    "    \n",
    "    elif ' ' in x:\n",
    "        #Type.append(re.sub(r\"\\s+\", '/', x))\n",
    "        Type.append(x.replace(' ','/'))\n",
    "    \n",
    "    else:\n",
    "        Type.append(x)\n",
    "\n",
    "df_indeed['Job Type'] = Type\n",
    "df_indeed = df_indeed.drop(['Type'], axis=1)"
   ]
  },
  {
   "cell_type": "code",
   "execution_count": 8,
   "id": "16d2b272",
   "metadata": {},
   "outputs": [
    {
     "data": {
      "text/plain": [
       "array(['Kuala Lumpur', 'Petaling Jaya', 'Malaysia', 'Seremban',\n",
       "       'Kuala Lumpur+1 location', 'i-City', 'Selangor',\n",
       "       'Bangsar South•Remote', 'Petaling Jaya•Remote',\n",
       "       'Kuala Lumpur+2 locations', 'Subang Jaya', 'Kuala Lumpur•Remote',\n",
       "       'Simpang Ampat', 'Penang', 'Puchong', 'Port Klang', 'Perai',\n",
       "       'Cyberjaya', 'Malaysia+1 location', 'Kota Damansara', 'Batu Caves',\n",
       "       'Bukit Gelugor', 'Melaka', 'Kulai', 'Brickfields', 'Johor'],\n",
       "      dtype=object)"
      ]
     },
     "execution_count": 8,
     "metadata": {},
     "output_type": "execute_result"
    }
   ],
   "source": [
    "df_indeed.Location.unique()"
   ]
  },
  {
   "cell_type": "code",
   "execution_count": 9,
   "id": "5748b7ba",
   "metadata": {},
   "outputs": [],
   "source": [
    "# Clean the location column and standardizes the location\n",
    "\n",
    "Location = []\n",
    "\n",
    "for x in df_indeed[\"Location\"]:\n",
    "    \n",
    "    x = re.sub(r'\\b[a-z]', lambda m: m.group().upper(), x)\n",
    "    \n",
    "    if \"•\" in x:\n",
    "\n",
    "        Location.append(x.split('•')[0])\n",
    "        \n",
    "    elif \"+\" in x:\n",
    "        \n",
    "        Location.append(x.split('+')[0])        \n",
    "              \n",
    "    else:\n",
    "        Location.append(x)\n",
    "        \n",
    "df_indeed[\"Job Location\"] = Location"
   ]
  },
  {
   "cell_type": "code",
   "execution_count": null,
   "id": "d18f012a",
   "metadata": {},
   "outputs": [],
   "source": []
  },
  {
   "cell_type": "code",
   "execution_count": null,
   "id": "608b5588",
   "metadata": {},
   "outputs": [],
   "source": []
  },
  {
   "cell_type": "code",
   "execution_count": null,
   "id": "ece71c43",
   "metadata": {},
   "outputs": [],
   "source": []
  }
 ],
 "metadata": {
  "kernelspec": {
   "display_name": "Python 3",
   "language": "python",
   "name": "python3"
  },
  "language_info": {
   "codemirror_mode": {
    "name": "ipython",
    "version": 3
   },
   "file_extension": ".py",
   "mimetype": "text/x-python",
   "name": "python",
   "nbconvert_exporter": "python",
   "pygments_lexer": "ipython3",
   "version": "3.8.8"
  }
 },
 "nbformat": 4,
 "nbformat_minor": 5
}
